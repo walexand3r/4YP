{
  "nbformat": 4,
  "nbformat_minor": 0,
  "metadata": {
    "colab": {
      "name": "Scaling Invariance.pynb",
      "provenance": [],
      "include_colab_link": true
    },
    "kernelspec": {
      "name": "python3",
      "display_name": "Python 3"
    }
  },
  "cells": [
    {
      "cell_type": "markdown",
      "metadata": {
        "id": "view-in-github",
        "colab_type": "text"
      },
      "source": [
        "<a href=\"https://colab.research.google.com/github/walexand3r/4YP/blob/master/4YP/Fashion%20MNIST/Image%20Processing/D%2BSizeInvariance.ipynb\" target=\"_parent\"><img src=\"https://colab.research.google.com/assets/colab-badge.svg\" alt=\"Open In Colab\"/></a>"
      ]
    },
    {
      "cell_type": "markdown",
      "metadata": {
        "id": "k8QouLmj4VkS",
        "colab_type": "text"
      },
      "source": [
        "D: Unalterred image\n",
        "\n",
        "D+: Patch with intensity equal to average intensity of base image\n",
        "\n",
        "Here size of D+ patch is varied (2x2, 8x8, 14x14) to assess whether invariant to scaling (ie effect from desampling from 28x28 to 14x14)"
      ]
    },
    {
      "cell_type": "code",
      "metadata": {
        "id": "wD0jUE11Esps",
        "colab_type": "code",
        "colab": {}
      },
      "source": [
        "import pandas as pd\n",
        "import numpy as np\n",
        "%matplotlib inline \n",
        "from matplotlib import pyplot as plt\n",
        "from skimage import transform as tr\n",
        "from skimage import util\n",
        "from random import random \n",
        "from random import seed\n",
        "from copy import deepcopy"
      ],
      "execution_count": 0,
      "outputs": []
    },
    {
      "cell_type": "code",
      "metadata": {
        "id": "0BBYmUSgFpH-",
        "colab_type": "code",
        "colab": {}
      },
      "source": [
        "# Mount drive\n",
        "\n",
        "from google.colab import drive\n",
        "drive.mount('/content/drive/')"
      ],
      "execution_count": 0,
      "outputs": []
    },
    {
      "cell_type": "code",
      "metadata": {
        "id": "_FcDZi1bF0NE",
        "colab_type": "code",
        "colab": {}
      },
      "source": [
        "train = pd.read_csv('/content/drive/My Drive/4th Year/4YP/Fashion MNIST 60k/Base Images/train_base.csv',header=None).to_numpy()\n",
        "test = pd.read_csv('/content/drive/My Drive/4th Year/4YP/Fashion MNIST 60k/Base Images/test_base.csv',header=None).to_numpy()\n",
        "(n_train,pixels) = np.shape(train)\n",
        "n_test = np.size(test,0)\n",
        "#pixels = np.size(test,1)"
      ],
      "execution_count": 0,
      "outputs": []
    },
    {
      "cell_type": "code",
      "metadata": {
        "id": "en4uEvsBvwRC",
        "colab_type": "code",
        "colab": {}
      },
      "source": [
        "# Creating train data\n",
        "\n",
        "D = np.zeros([n_train,pixels])\n",
        "Dplus = np.zeros([n_train,pixels])\n",
        "D[:,0] = train[:,0]\n",
        "Dplus[:,0] = train[:,0]\n",
        "\n",
        "for n in range(n_train):\n",
        "  image = train[n,1:]\n",
        "  imMat = np.reshape(image, (-1, 28))\n",
        "  imD = np.copy(imMat)\n",
        "  imDplus = np.copy(imMat)\n",
        "  totInt = 0\n",
        "  num = 0\n",
        "\n",
        "  for i in range(0,14):\n",
        "    for j in range(0,14):\n",
        "      if imMat[i,j] > 5:\n",
        "        totInt = totInt + imMat[i,j]\n",
        "        num = num + 1\n",
        "\n",
        "  avInt = round(totInt / num)\n",
        "  imDplus[0:14,14:] = 0\n",
        "  imDplus[3:11,17:25] = avInt\n",
        "  D[n,1:]  = np.reshape(imD,(1,-1))\n",
        "  Dplus[n,1:] = np.reshape(imDplus,(1,-1))\n",
        "\n",
        "\n"
      ],
      "execution_count": 0,
      "outputs": []
    },
    {
      "cell_type": "code",
      "metadata": {
        "id": "W690IZ_xQ7_O",
        "colab_type": "code",
        "colab": {}
      },
      "source": [
        "pd.DataFrame(Dplus).to_csv('/content/drive/My Drive/4th Year/4YP/Fashion MNIST 60k/Invariance Testing/Scaling/train.csv',header=None, index=None)\n",
        "\n"
      ],
      "execution_count": 0,
      "outputs": []
    },
    {
      "cell_type": "code",
      "metadata": {
        "id": "YlBRAEgUyAKy",
        "colab_type": "code",
        "colab": {}
      },
      "source": [
        "n = round(10000*random())\n",
        "picture = Dplus[n,1:]\n",
        "imMatrix = np.reshape(picture, (-1, 28))\n",
        "plt.imshow(imMatrix, cmap = 'Greys_r', interpolation='nearest')\n",
        "plt.show()\n",
        "\n",
        "# picture2 = image_set2[n,1:]\n",
        "# imMatrix2 = np.reshape(picture2, (-1, 28))\n",
        "# plt.imshow(imMatrix2, cmap = 'Greys_r', interpolation='nearest')\n",
        "# plt.show()"
      ],
      "execution_count": 0,
      "outputs": []
    },
    {
      "cell_type": "code",
      "metadata": {
        "colab_type": "code",
        "id": "KG8j3MIuSSbv",
        "colab": {}
      },
      "source": [
        "# Creating test data\n",
        "\n",
        "D = np.zeros([n_test,pixels])\n",
        "Dplus = np.zeros([n_test,pixels])\n",
        "D[:,0] = test[:,0]\n",
        "Dplus[:,0] = test[:,0]\n",
        "\n",
        "for n in range(n_test):\n",
        "  image = test[n,1:]\n",
        "  imMat = np.reshape(image, (-1, 28))\n",
        "  imD = np.copy(imMat)\n",
        "  imDplus = np.copy(imMat)\n",
        "  totInt = 0\n",
        "  num = 0\n",
        "\n",
        "  for i in range(0,14):\n",
        "    for j in range(0,14):\n",
        "      if imMat[i,j] > 5:\n",
        "        totInt = totInt + imMat[i,j]\n",
        "        num = num + 1\n",
        "\n",
        "  avInt = round(totInt / num)\n",
        "  imDplus[0:14,14:] = 0\n",
        "  imDplus[6:8,20:22] = avInt\n",
        "  D[n,1:]  = np.reshape(imD,(1,-1))\n",
        "  Dplus[n,1:] = np.reshape(imDplus,(1,-1))\n",
        "\n",
        "pd.DataFrame(Dplus).to_csv('/content/drive/My Drive/4th Year/4YP/Fashion MNIST 60k/Invariance Testing/Scaling/test.csv',header=None, index=None)\n",
        "\n"
      ],
      "execution_count": 0,
      "outputs": []
    }
  ]
}
