{
  "nbformat": 4,
  "nbformat_minor": 0,
  "metadata": {
    "colab": {
      "name": "Invariance Image Creator",
      "provenance": [],
      "authorship_tag": "ABX9TyNT89U9oYF/vJPr6zbbLcvw",
      "include_colab_link": true
    },
    "kernelspec": {
      "name": "python3",
      "display_name": "Python 3"
    },
    "accelerator": "GPU"
  },
  "cells": [
    {
      "cell_type": "markdown",
      "metadata": {
        "id": "view-in-github",
        "colab_type": "text"
      },
      "source": [
        "<a href=\"https://colab.research.google.com/github/walexand3r/4YP/blob/master/4YP/Fashion%20MNIST/Image%20Processing/D%2BQuadrantInvariance.ipynb\" target=\"_parent\"><img src=\"https://colab.research.google.com/assets/colab-badge.svg\" alt=\"Open In Colab\"/></a>"
      ]
    },
    {
      "cell_type": "markdown",
      "metadata": {
        "id": "3yFycVoo38g3",
        "colab_type": "text"
      },
      "source": [
        "This function creates base data D by scaling down the 28x28 images to 14x14 and padding with random noise\n"
      ]
    },
    {
      "cell_type": "code",
      "metadata": {
        "id": "tF_Rn8YNxWuA",
        "colab_type": "code",
        "colab": {}
      },
      "source": [
        "# This function creates base data D by scaling down the 28x28 images to 14x14 and padding with random noise\n",
        "import pandas as pd\n",
        "import numpy as np\n",
        "from matplotlib import pyplot as plt\n",
        "%matplotlib inline \n",
        "from skimage import transform as tr\n",
        "from skimage import util\n",
        "from random import random \n",
        "from random import seed\n"
      ],
      "execution_count": 0,
      "outputs": []
    },
    {
      "cell_type": "code",
      "metadata": {
        "colab_type": "code",
        "id": "lT-M1Dl5y0kz",
        "colab": {}
      },
      "source": [
        "# Mount drive\n",
        "from google.colab import drive\n",
        "drive.mount('/content/drive/')"
      ],
      "execution_count": 0,
      "outputs": []
    },
    {
      "cell_type": "code",
      "metadata": {
        "id": "w9KYxs7_xint",
        "colab_type": "code",
        "colab": {}
      },
      "source": [
        "# Load in original fashion MNIST data:\n",
        "train = pd.read_csv('/content/drive/My Drive/4th Year/4YP/Fashion MNIST 60k/Base Images/train_base.csv',header=0).to_numpy()\n",
        "test = pd.read_csv('/content/drive/My Drive/4th Year/4YP/Fashion MNIST 60k/Base Images/test_base.csv',header=0).to_numpy()\n",
        "\n",
        "n_train = np.size(train,0)\n",
        "n_test = np.size(test,0)\n",
        "im_pixels = np.size(test,1) - 1\n",
        "im_size = int(np.sqrt(im_pixels))"
      ],
      "execution_count": 0,
      "outputs": []
    },
    {
      "cell_type": "code",
      "metadata": {
        "id": "4QinaXhZ0_BR",
        "colab_type": "code",
        "colab": {}
      },
      "source": [
        "train_processed = np.zeros([n_train,im_pixels+1])\n",
        "test_processed = np.zeros([n_test,im_pixels+1])\n",
        "\n",
        "for n in range(0,n_train):\n",
        "  imProc = np.zeros([28,28])\n",
        "  imMat = np.reshape(train[n,1:], (-1, 28))\n",
        "  image = imMat[0:14,0:14]\n",
        "  for i in range (0,im_size):\n",
        "    for j in range (0,im_size):\n",
        "      imProc[i,j] = round(255*random())\n",
        "  #imProc[0:14,0:14] = 0\n",
        "  imProc[14:,14:] = image\n",
        "  train_processed[n,1:] = np.reshape(imProc,(1,-1)) \n",
        "  train_processed[n,0] = train[n,0]\n",
        "\n",
        "for n in range(0,n_test):\n",
        "  imProc = np.zeros([28,28])\n",
        "  imMat = np.reshape(test[n,1:], (-1, 28))\n",
        "  image = imMat[0:14,0:14]\n",
        "  for i in range (0,im_size):\n",
        "    for j in range (0,im_size):\n",
        "      imProc[i,j] = round(255*random())\n",
        "  imProc[14:,14:] = image\n",
        "  test_processed[n,1:] = np.reshape(imProc,(1,-1)) \n",
        "  test_processed[n,0] = test[n,0]\n",
        "\n",
        "# Saving\n",
        "pd.DataFrame(train_processed).to_csv('/content/drive/My Drive/4th Year/4YP/Fashion MNIST 60k/Invariance Testing/train_pos4.csv',header=None, index=None)\n",
        "pd.DataFrame(test_processed).to_csv('/content/drive/My Drive/4th Year/4YP/Fashion MNIST 60k/Invariance Testing/test_pos4.csv',header=None, index=None)\n"
      ],
      "execution_count": 0,
      "outputs": []
    },
    {
      "cell_type": "code",
      "metadata": {
        "id": "UvJbW1CQPxDa",
        "colab_type": "code",
        "colab": {}
      },
      "source": [
        "# Saving\n",
        "pd.DataFrame(train_processed).to_csv('/content/drive/My Drive/4th Year/4YP/Fashion MNIST 60k/Invariance Testing/train_pos2.csv',header=None, index=None)\n",
        "pd.DataFrame(test_processed).to_csv('/content/drive/My Drive/4th Year/4YP/Fashion MNIST 60k/Invariance Testing/test_pos2.csv',header=None, index=None)"
      ],
      "execution_count": 0,
      "outputs": []
    },
    {
      "cell_type": "code",
      "metadata": {
        "id": "Lwz3zYVZBX4w",
        "colab_type": "code",
        "colab": {}
      },
      "source": [
        "# Checking images from imported data\n",
        "n = round(60000*random())\n",
        "imMat = np.reshape(train_processed[n,1:], (-1, 28))\n",
        "plt.imshow(imMat, cmap = 'Greys_r', interpolation='nearest')\n",
        "plt.show()"
      ],
      "execution_count": 0,
      "outputs": []
    },
    {
      "cell_type": "code",
      "metadata": {
        "id": "4074MKTeEUDx",
        "colab_type": "code",
        "colab": {}
      },
      "source": [
        "# Checking images from saved data\n",
        "image_set = pd.read_csv('/content/drive/My Drive/4th Year/4YP/Fashion MNIST 60k/Base Images/test_base.csv',header=None)\n",
        "image_set = image_set.to_numpy();\n",
        "image_set = image_set[:n_test,:]\n"
      ],
      "execution_count": 0,
      "outputs": []
    },
    {
      "cell_type": "code",
      "metadata": {
        "id": "kUcVMHlIEsSg",
        "colab_type": "code",
        "colab": {}
      },
      "source": [
        "n = round(10000*random())\n",
        "\n",
        "image = image_set[n,1:]\n",
        "imMat = np.reshape(image, (-1, 28))\n",
        "plt.imshow(imMat, cmap = 'Greys_r', interpolation='nearest')\n",
        "plt.show()"
      ],
      "execution_count": 0,
      "outputs": []
    }
  ]
}
