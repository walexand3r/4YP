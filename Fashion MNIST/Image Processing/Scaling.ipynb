{
  "nbformat": 4,
  "nbformat_minor": 0,
  "metadata": {
    "colab": {
      "name": "Scaling.pynb",
      "provenance": [],
      "collapsed_sections": [],
      "include_colab_link": true
    },
    "kernelspec": {
      "name": "python3",
      "display_name": "Python 3"
    },
    "accelerator": "GPU"
  },
  "cells": [
    {
      "cell_type": "markdown",
      "metadata": {
        "id": "view-in-github",
        "colab_type": "text"
      },
      "source": [
        "<a href=\"https://colab.research.google.com/github/walexand3r/4YP/blob/master/Fashion%20MNIST/Image%20Processing/Scaling.ipynb\" target=\"_parent\"><img src=\"https://colab.research.google.com/assets/colab-badge.svg\" alt=\"Open In Colab\"/></a>"
      ]
    },
    {
      "cell_type": "markdown",
      "metadata": {
        "id": "VBkndi__29ci",
        "colab_type": "text"
      },
      "source": [
        "D: Unalterred image\n",
        "\n",
        "D+: Image scaled randomly in a realistic range of values depending on its class"
      ]
    },
    {
      "cell_type": "code",
      "metadata": {
        "id": "wD0jUE11Esps",
        "colab_type": "code",
        "colab": {}
      },
      "source": [
        "import pandas as pd\n",
        "import numpy as np\n",
        "%matplotlib inline \n",
        "from matplotlib import pyplot as plt\n",
        "from skimage import transform as tr\n",
        "from skimage import util\n",
        "from random import random \n",
        "from random import seed\n",
        "from copy import deepcopy\n"
      ],
      "execution_count": 0,
      "outputs": []
    },
    {
      "cell_type": "code",
      "metadata": {
        "id": "d7b28MB0igMu",
        "colab_type": "code",
        "colab": {}
      },
      "source": [
        "# Defining scale factors\n",
        "sftable = np.array([[0.52,0.68],[0.78,1],[0.60,0.8],[0.81,1],[0.69,0.91],[0.17,0.23],[0.57,0.73],[0.22,0.28],[0.11,0.29],[0.26,0.34]])  \n",
        "\n",
        " # Indexes correspond to classes\n",
        " # Top Trousers Pullover Dress Coat Sandal Shirt Sneaker Bag Ankle Boot"
      ],
      "execution_count": 0,
      "outputs": []
    },
    {
      "cell_type": "code",
      "metadata": {
        "id": "0BBYmUSgFpH-",
        "colab_type": "code",
        "colab": {}
      },
      "source": [
        "# Mount drive\n",
        "\n",
        "from google.colab import drive\n",
        "drive.mount('/content/drive/')"
      ],
      "execution_count": 0,
      "outputs": []
    },
    {
      "cell_type": "code",
      "metadata": {
        "id": "_FcDZi1bF0NE",
        "colab_type": "code",
        "colab": {}
      },
      "source": [
        "train = pd.read_csv('/content/drive/My Drive/4th Year/4YP/Fashion MNIST 60k/Base Images/train_base.csv',header=None).to_numpy()\n",
        "test = pd.read_csv('/content/drive/My Drive/4th Year/4YP/Fashion MNIST 60k/Base Images/test_base.csv',header=None).to_numpy()"
      ],
      "execution_count": 0,
      "outputs": []
    },
    {
      "cell_type": "code",
      "metadata": {
        "id": "wH9_g_diLpZh",
        "colab_type": "code",
        "colab": {}
      },
      "source": [
        "# Processing train image set\n",
        "\n",
        "pd.DataFrame(train).to_csv('/content/drive/My Drive/4th Year/4YP/Fashion MNIST 60k/Processed Datasets/Scaling/D_train.csv',header=None, index=None)\n",
        "imProc_rs = np.zeros([60000,785])\n",
        "imProc_rs[:,0] = train[:,0]\n",
        "\n",
        "for n in range(np.size(train,0)):\n",
        "  image = train[n,1:]\n",
        "  index = int(train[n,0])\n",
        "  sf = sftable[index,0] + (random() * (sftable[index,1] - sftable[index,0]))\n",
        "\n",
        "  imMat = np.reshape(image, (-1, 28))\n",
        "\n",
        "  # Scaling according to scale factor \n",
        "\n",
        "  imtoScale = deepcopy(imMat[1:14,1:14])\n",
        "  imScale = np.round(tr.rescale(imtoScale,sf,preserve_range = True))\n",
        "  padAmount = 14 - imScale.shape[0]\n",
        "  imScale = util.pad(imScale,((0,padAmount),(0,padAmount)))\n",
        "\n",
        "  imrs = imMat[:]\n",
        "  imrs[0:14,14:28] = imScale\n",
        "\n",
        "  imProc_rs[n,1:] = np.reshape(imrs,(1,-1)) \n",
        "\n",
        "# Saving\n",
        "\n",
        "pd.DataFrame(imProc_rs).to_csv('/content/drive/My Drive/4th Year/4YP/Fashion MNIST 60k/Processed Datasets/Scaling/D+_train.csv',header=None, index=None)\n",
        "\n",
        "\n"
      ],
      "execution_count": 0,
      "outputs": []
    },
    {
      "cell_type": "code",
      "metadata": {
        "id": "hdscLiMHR5DG",
        "colab_type": "code",
        "colab": {}
      },
      "source": [
        "# Processing test image set\n",
        "\n",
        "pd.DataFrame(test).to_csv('/content/drive/My Drive/4th Year/4YP/Fashion MNIST 60k/Processed Datasets/Scaling/D_test.csv',header=None, index=None)\n",
        "imProc_rs = np.zeros([10000,785])\n",
        "imProc_rs[:,0] = test[:,0]\n",
        "\n",
        "for n in range(np.size(test,0)):\n",
        "  image = test[n,1:]\n",
        "  index = int(test[n,0])\n",
        "  sf = sftable[index,0] + (random() * (sftable[index,1] - sftable[index,0]))\n",
        "\n",
        "  imMat = np.reshape(image, (-1, 28))\n",
        "\n",
        "  # Scaling according to scale factor \n",
        "\n",
        "  imtoScale = deepcopy(imMat[1:14,1:14])\n",
        "  imScale = np.round(tr.rescale(imtoScale,sf,preserve_range = True))\n",
        "  padAmount = 14 - imScale.shape[0]\n",
        "  imScale = util.pad(imScale,((0,padAmount),(0,padAmount)))\n",
        "\n",
        "  imrs = imMat[:]\n",
        "  imrs[0:14,14:28] = imScale\n",
        "\n",
        "  imProc_rs[n,1:] = np.reshape(imrs,(1,-1)) \n",
        "\n",
        "# Saving\n",
        "pd.DataFrame(imProc_rs).to_csv('/content/drive/My Drive/4th Year/4YP/Fashion MNIST 60k/Processed Datasets/Scaling/D+_test.csv',header=None, index=None)\n"
      ],
      "execution_count": 0,
      "outputs": []
    },
    {
      "cell_type": "code",
      "metadata": {
        "id": "YlBRAEgUyAKy",
        "colab_type": "code",
        "colab": {}
      },
      "source": [
        "# Checking images\n",
        "n = round(40000*random())\n",
        "image = imProc_base[n,1:]\n",
        "imMat = np.reshape(image, (-1, 28))\n",
        "plt.imshow(imMat, cmap = 'Greys_r', interpolation='nearest')\n",
        "plt.show()"
      ],
      "execution_count": 0,
      "outputs": []
    },
    {
      "cell_type": "code",
      "metadata": {
        "id": "W690IZ_xQ7_O",
        "colab_type": "code",
        "colab": {}
      },
      "source": [
        "image_set = pd.read_csv('/content/drive/My Drive/4th Year/4YP/Fashion MNIST 60k/Processed Datasets/Scaling/D_test.csv',header=None)\n",
        "# Checking images\n",
        "image_set = image_set.to_numpy();"
      ],
      "execution_count": 0,
      "outputs": []
    },
    {
      "cell_type": "code",
      "metadata": {
        "id": "rHgGTcTTTbcw",
        "colab_type": "code",
        "colab": {}
      },
      "source": [
        "n = round(10000*random())\n",
        "image = image_set[n,1:]\n",
        "imMat = np.reshape(image, (-1, 28))\n",
        "plt.imshow(imMat, cmap = 'Greys_r', interpolation='nearest')\n",
        "plt.show()"
      ],
      "execution_count": 0,
      "outputs": []
    }
  ]
}