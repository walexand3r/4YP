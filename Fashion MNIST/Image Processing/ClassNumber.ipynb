{
  "nbformat": 4,
  "nbformat_minor": 0,
  "metadata": {
    "colab": {
      "name": "ClassNumber.pynb",
      "provenance": [],
      "collapsed_sections": [],
      "include_colab_link": true
    },
    "kernelspec": {
      "name": "python3",
      "display_name": "Python 3"
    },
    "accelerator": "GPU"
  },
  "cells": [
    {
      "cell_type": "markdown",
      "metadata": {
        "id": "view-in-github",
        "colab_type": "text"
      },
      "source": [
        "<a href=\"https://colab.research.google.com/github/walexand3r/4YP/blob/master/Fashion%20MNIST/Image%20Processing/ClassNumber.ipynb\" target=\"_parent\"><img src=\"https://colab.research.google.com/assets/colab-badge.svg\" alt=\"Open In Colab\"/></a>"
      ]
    },
    {
      "cell_type": "markdown",
      "metadata": {
        "id": "llSAa3Y3yhGp",
        "colab_type": "text"
      },
      "source": [
        "Adding greyscale image of class label as a number as D+ data"
      ]
    },
    {
      "cell_type": "code",
      "metadata": {
        "id": "wD0jUE11Esps",
        "colab_type": "code",
        "colab": {}
      },
      "source": [
        "import pandas as pd\n",
        "import numpy as np\n",
        "%matplotlib inline \n",
        "from matplotlib import pyplot as plt\n",
        "import skimage as skimage\n",
        "from skimage import io\n",
        "from skimage import transform as tr\n",
        "from skimage import util\n",
        "from random import random \n",
        "from random import randint\n",
        "from random import seed\n",
        "from copy import deepcopy\n"
      ],
      "execution_count": 0,
      "outputs": []
    },
    {
      "cell_type": "code",
      "metadata": {
        "id": "0BBYmUSgFpH-",
        "colab_type": "code",
        "colab": {}
      },
      "source": [
        "# Mount drive\n",
        "\n",
        "from google.colab import drive\n",
        "drive.mount('/content/drive/')"
      ],
      "execution_count": 0,
      "outputs": []
    },
    {
      "cell_type": "code",
      "metadata": {
        "id": "_FcDZi1bF0NE",
        "colab_type": "code",
        "colab": {}
      },
      "source": [
        "image_set = pd.read_csv('/content/drive/My Drive/4th Year/4YP/Fashion MNIST 60k/Processed Datasets/Scaling/D_train.csv',header=None)\n",
        "image_set = image_set.to_numpy();"
      ],
      "execution_count": 0,
      "outputs": []
    },
    {
      "cell_type": "code",
      "metadata": {
        "id": "Or19jp6Fm2pf",
        "colab_type": "code",
        "colab": {}
      },
      "source": [
        "# Loading class number images\n",
        "\n",
        "img = skimage.io.imread('/content/drive/My Drive/4th Year/4YP/Fashion MNIST 60k/Image Processing Functions/ClassNumber/0.jpg',as_gray = True)\n",
        "im0 = np.reshape(img, (-1, 14))\n",
        "im0 = np.round(255*im0)\n",
        "\n",
        "img = skimage.io.imread('/content/drive/My Drive/4th Year/4YP/Fashion MNIST 60k/Image Processing Functions/ClassNumber/1.jpg',as_gray = True)\n",
        "im1 = np.reshape(img, (-1, 14))\n",
        "im1 = np.round(255*im1)\n",
        "\n",
        "img = skimage.io.imread('/content/drive/My Drive/4th Year/4YP/Fashion MNIST 60k/Image Processing Functions/ClassNumber/2.jpg',as_gray = True)\n",
        "im2 = np.reshape(img, (-1, 14))\n",
        "im2 = np.round(255*im2)\n",
        "\n",
        "img = skimage.io.imread('/content/drive/My Drive/4th Year/4YP/Fashion MNIST 60k/Image Processing Functions/ClassNumber/3.jpg',as_gray = True)\n",
        "im3 = np.reshape(img, (-1, 14))\n",
        "im3 = np.round(255*im3)\n",
        "\n",
        "img = skimage.io.imread('/content/drive/My Drive/4th Year/4YP/Fashion MNIST 60k/Image Processing Functions/ClassNumber/4.jpg',as_gray = True)\n",
        "im4 = np.reshape(img, (-1, 14))\n",
        "im4 = np.round(255*im4)\n",
        "\n",
        "img = skimage.io.imread('/content/drive/My Drive/4th Year/4YP/Fashion MNIST 60k/Image Processing Functions/ClassNumber/5.jpg',as_gray = True)\n",
        "im5 = np.reshape(img, (-1, 14))\n",
        "im5 = np.round(255*im5)\n",
        "\n",
        "img = skimage.io.imread('/content/drive/My Drive/4th Year/4YP/Fashion MNIST 60k/Image Processing Functions/ClassNumber/6.jpg',as_gray = True)\n",
        "im6 = np.reshape(img, (-1, 14))\n",
        "im6 = np.round(255*im6)\n",
        "\n",
        "img = skimage.io.imread('/content/drive/My Drive/4th Year/4YP/Fashion MNIST 60k/Image Processing Functions/ClassNumber/7.jpg',as_gray = True)\n",
        "im7 = np.reshape(img, (-1, 14))\n",
        "im7 = np.round(255*im7)\n",
        "\n",
        "img = skimage.io.imread('/content/drive/My Drive/4th Year/4YP/Fashion MNIST 60k/Image Processing Functions/ClassNumber/8.jpg',as_gray = True)\n",
        "im8 = np.reshape(img, (-1, 14))\n",
        "im8 = np.round(255*im8)\n",
        "\n",
        "img = skimage.io.imread('/content/drive/My Drive/4th Year/4YP/Fashion MNIST 60k/Image Processing Functions/ClassNumber/9.jpg',as_gray = True)\n",
        "im9 = np.reshape(img, (-1, 14))\n",
        "im9 = np.round(255*im9)\n"
      ],
      "execution_count": 0,
      "outputs": []
    },
    {
      "cell_type": "code",
      "metadata": {
        "id": "ISwHSYMbqMka",
        "colab_type": "code",
        "colab": {}
      },
      "source": [
        "plt.imshow(im6, cmap = 'Greys_r', interpolation='nearest')\n",
        "plt.show()"
      ],
      "execution_count": 0,
      "outputs": []
    },
    {
      "cell_type": "code",
      "metadata": {
        "id": "uPtJLDQ5305q",
        "colab_type": "code",
        "colab": {}
      },
      "source": [
        ""
      ],
      "execution_count": 0,
      "outputs": []
    },
    {
      "cell_type": "code",
      "metadata": {
        "id": "sSw6H_wVJXhN",
        "colab_type": "code",
        "colab": {}
      },
      "source": [
        "pd.DataFrame(image_set).to_csv('/content/drive/My Drive/4th Year/4YP/Fashion MNIST 60k/Image Processing Functions/ClassNumber/D_test.csv',header=None, index=None)\n",
        "\n",
        "(N,cols) = np.shape(image_set)\n",
        "\n",
        "imProc_cn = np.zeros([N,cols])\n",
        "imProc_cn[:,0] = image_set[:,0]\n",
        "\n",
        "for n in range(np.size(image_set,0)):\n",
        "  image = image_set[n,1:]\n",
        "  cL = image_set[n,0]\n",
        "  imMat = np.reshape(image, (-1, 28))\n",
        "  imcn = deepcopy(imMat)\n",
        "\n",
        "  if cL == 0:\n",
        "    cN = im0\n",
        "  elif cL == 1:\n",
        "    cN = im1\n",
        "  elif cL == 2:\n",
        "    cN = im2\n",
        "  elif cL == 3:\n",
        "    cN = im3\n",
        "  elif cL == 4:\n",
        "    cN = im4\n",
        "  elif cL == 5:\n",
        "    cN = im5\n",
        "  elif cL == 6:\n",
        "    cN = im6\n",
        "  elif cL == 7:\n",
        "    cN = im7\n",
        "  elif cL == 8:\n",
        "    cN = im8\n",
        "  else:\n",
        "    cN = im9\n",
        "\n",
        "  imcn[0:14,14:28] = cN \n",
        "  \n",
        "  # if k == 1:\n",
        "  #   imcn[0:s,14:14+s] = imScale\n",
        "  # elif k == 2:\n",
        "  #   imcn[14:14+s,0:s] = imScale\n",
        "  # else :\n",
        "  #   imcn[14:14+s,14:14+s] = imScale\n",
        "\n",
        "  imProc_cn[n,1:] = np.reshape(imcn,(1,-1)) \n",
        "\n",
        "\n",
        "# Saving\n",
        "pd.DataFrame(imProc_cn).to_csv('/content/drive/My Drive/4th Year/4YP/Fashion MNIST 60k/Image Processing Functions/ClassNumber/D+_test.csv',header=None, index=None)\n",
        "\n"
      ],
      "execution_count": 0,
      "outputs": []
    },
    {
      "cell_type": "code",
      "metadata": {
        "id": "YlBRAEgUyAKy",
        "colab_type": "code",
        "colab": {}
      },
      "source": [
        "# Checking images\n",
        "n = round(10000*random())\n",
        "image = image_set[n,1:]\n",
        "imMat = np.reshape(image, (-1, 28))\n",
        "plt.imshow(imMat, cmap = 'Greys_r', interpolation='nearest')\n",
        "plt.show()\n",
        "# image2 = imProc_cn[n,1:]\n",
        "# imMat2 = np.reshape(image2, (-1, 28))\n",
        "# plt.imshow(imMat2, cmap = 'Greys_r', interpolation='nearest')\n",
        "# plt.show()"
      ],
      "execution_count": 0,
      "outputs": []
    },
    {
      "cell_type": "code",
      "metadata": {
        "id": "W690IZ_xQ7_O",
        "colab_type": "code",
        "colab": {}
      },
      "source": [
        "image_set = pd.read_csv('/content/drive/My Drive/4th Year/4YP/Fashion MNIST/Processed Datasets/ClassNumber/train_cn.csv',header=None)\n",
        "# Checking images\n",
        "n = round(6666*random())\n",
        "image_set = image_set.to_numpy();\n",
        "image_set = image_set[:6666,:]\n",
        "image = image_set[n,1:]\n",
        "imMat = np.reshape(image, (-1, 28))\n",
        "plt.imshow(imMat, cmap = 'Greys_r', interpolation='nearest')\n",
        "plt.show()"
      ],
      "execution_count": 0,
      "outputs": []
    },
    {
      "cell_type": "code",
      "metadata": {
        "id": "_iJ_udTL4nKE",
        "colab_type": "code",
        "colab": {}
      },
      "source": [
        "print(imProc_cn[n,:])"
      ],
      "execution_count": 0,
      "outputs": []
    }
  ]
}