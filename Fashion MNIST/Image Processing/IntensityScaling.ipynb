{
  "nbformat": 4,
  "nbformat_minor": 0,
  "metadata": {
    "colab": {
      "name": "IntensityScaling.pynb",
      "provenance": [],
      "collapsed_sections": [],
      "include_colab_link": true
    },
    "kernelspec": {
      "name": "python3",
      "display_name": "Python 3"
    },
    "accelerator": "GPU"
  },
  "cells": [
    {
      "cell_type": "markdown",
      "metadata": {
        "id": "view-in-github",
        "colab_type": "text"
      },
      "source": [
        "<a href=\"https://colab.research.google.com/github/walexand3r/4YP/blob/master/Fashion%20MNIST/Image%20Processing/IntensityScaling.ipynb\" target=\"_parent\"><img src=\"https://colab.research.google.com/assets/colab-badge.svg\" alt=\"Open In Colab\"/></a>"
      ]
    },
    {
      "cell_type": "markdown",
      "metadata": {
        "id": "utDS1SqH0ts4",
        "colab_type": "text"
      },
      "source": [
        "Scales pixel intensities of base image D, adds original image for D+"
      ]
    },
    {
      "cell_type": "code",
      "metadata": {
        "id": "wD0jUE11Esps",
        "colab_type": "code",
        "colab": {}
      },
      "source": [
        "import pandas as pd\n",
        "import numpy as np\n",
        "%matplotlib inline \n",
        "from matplotlib import pyplot as plt\n",
        "from copy import deepcopy\n",
        "from random import random\n"
      ],
      "execution_count": 0,
      "outputs": []
    },
    {
      "cell_type": "code",
      "metadata": {
        "id": "0BBYmUSgFpH-",
        "colab_type": "code",
        "outputId": "145d1546-fadd-40fa-a8b8-d107eee2eaf6",
        "colab": {
          "base_uri": "https://localhost:8080/",
          "height": 121
        }
      },
      "source": [
        "# Mount drive\n",
        "\n",
        "from google.colab import drive\n",
        "drive.mount('/content/drive/')"
      ],
      "execution_count": 0,
      "outputs": [
        {
          "output_type": "stream",
          "text": [
            "Go to this URL in a browser: https://accounts.google.com/o/oauth2/auth?client_id=947318989803-6bn6qk8qdgf4n4g3pfee6491hc0brc4i.apps.googleusercontent.com&redirect_uri=urn%3aietf%3awg%3aoauth%3a2.0%3aoob&response_type=code&scope=email%20https%3a%2f%2fwww.googleapis.com%2fauth%2fdocs.test%20https%3a%2f%2fwww.googleapis.com%2fauth%2fdrive%20https%3a%2f%2fwww.googleapis.com%2fauth%2fdrive.photos.readonly%20https%3a%2f%2fwww.googleapis.com%2fauth%2fpeopleapi.readonly\n",
            "\n",
            "Enter your authorization code:\n",
            "··········\n",
            "Mounted at /content/drive/\n"
          ],
          "name": "stdout"
        }
      ]
    },
    {
      "cell_type": "code",
      "metadata": {
        "id": "_FcDZi1bF0NE",
        "colab_type": "code",
        "colab": {}
      },
      "source": [
        "train = pd.read_csv('/content/drive/My Drive/4th Year/4YP/Fashion MNIST 60k/Base Images/train_base.csv',header=None).to_numpy()\n",
        "test = pd.read_csv('/content/drive/My Drive/4th Year/4YP/Fashion MNIST 60k/Base Images/test_base.csv',header=None).to_numpy()\n",
        "n_train = np.size(train,0)\n",
        "n_test= np.size(test,0)\n",
        "pixels = np.size(test,1)"
      ],
      "execution_count": 0,
      "outputs": []
    },
    {
      "cell_type": "code",
      "metadata": {
        "id": "cORlAlXd4_dm",
        "colab_type": "code",
        "colab": {}
      },
      "source": [
        "# Creating train data\n",
        "\n",
        "D = np.zeros([n_train,pixels])\n",
        "Dplus = np.zeros([n_train,pixels])\n",
        "\n",
        "D[:,0] = train[:,0]\n",
        "Dplus[:,0] = train[:,0]\n",
        "\n",
        "for n in range(n_train):\n",
        "  # In matrix form\n",
        "  image = train[n,1:]\n",
        "  imD = np.reshape(image, (-1, 28))[:]\n",
        "  imGT = deepcopy(imD[0:14,0:14])     # ground truth\n",
        "\n",
        "  # Forming Dm\n",
        "  scale = 1.4*random() - 0.7\n",
        "  for i in range(0,14):\n",
        "    for j in range(0,14):\n",
        "      imD[i,j] = round(imD[i,j] * (1+scale));\n",
        "      if imD[i,j] < 0:\n",
        "        imD[i,j]= 0;\n",
        "      if imD[i,j] > 255:\n",
        "        imD[i,j] = 255;\n",
        "\n",
        "  D[n,1:] = np.reshape(imD,(1,-1))\n",
        "\n",
        "  # Forming Dm+\n",
        "  imDplus = imD[:]\n",
        "  imDplus[0:14,14:28] = imGT[:]\n",
        "  Dplus[n,1:] = np.reshape(imDplus,(1,-1))\n",
        "\n",
        "# Saving\n",
        "pd.DataFrame(D).to_csv('/content/drive/My Drive/4th Year/4YP/Fashion MNIST 60k/Processed Datasets/Intensity Scaled/D_train.csv',header=None, index=None)\n",
        "pd.DataFrame(Dplus).to_csv('/content/drive/My Drive/4th Year/4YP/Fashion MNIST 60k/Processed Datasets/Intensity Scaled/D+_train.csv',header=None, index=None)\n"
      ],
      "execution_count": 0,
      "outputs": []
    },
    {
      "cell_type": "code",
      "metadata": {
        "colab_type": "code",
        "id": "SCL_ZdmeerH1",
        "colab": {}
      },
      "source": [
        "# Creating test data\n",
        "\n",
        "D = np.zeros([n_test,pixels])\n",
        "Dplus = np.zeros([n_test,pixels])\n",
        "\n",
        "D[:,0] = test[:,0]\n",
        "Dplus[:,0] = test[:,0]\n",
        "\n",
        "for n in range(n_test):\n",
        "  # In matrix form\n",
        "  image = test[n,1:]\n",
        "  imD = np.reshape(image, (-1, 28))[:]\n",
        "  imGT = deepcopy(imD[0:14,0:14])     # ground truth\n",
        "\n",
        "  # Forming Dm\n",
        "  scale = 1.4*random() - 0.7\n",
        "  for i in range(0,14):\n",
        "    for j in range(0,14):\n",
        "      imD[i,j] = round(imD[i,j] * (1+scale));\n",
        "      if imD[i,j] < 0:\n",
        "        imD[i,j]= 0;\n",
        "      if imD[i,j] > 255:\n",
        "        imD[i,j] = 255;\n",
        "\n",
        "  D[n,1:] = np.reshape(imD,(1,-1))\n",
        "\n",
        "  # Forming Dm+\n",
        "  imDplus = imD[:]\n",
        "  imDplus[0:14,14:28] = imGT[:]\n",
        "  Dplus[n,1:] = np.reshape(imDplus,(1,-1))\n",
        "\n",
        "# Saving\n",
        "pd.DataFrame(D).to_csv('/content/drive/My Drive/4th Year/4YP/Fashion MNIST 60k/Processed Datasets/Intensity Scaled/D_test.csv',header=None, index=None)\n",
        "pd.DataFrame(Dplus).to_csv('/content/drive/My Drive/4th Year/4YP/Fashion MNIST 60k/Processed Datasets/Intensity Scaled/D+_test.csv',header=None, index=None)\n",
        "\n",
        "\n",
        "\n"
      ],
      "execution_count": 0,
      "outputs": []
    },
    {
      "cell_type": "code",
      "metadata": {
        "id": "W690IZ_xQ7_O",
        "colab_type": "code",
        "colab": {}
      },
      "source": [
        "image_set = pd.read_csv('/content/drive/My Drive/4th Year/4YP/Fashion MNIST 60k/Processed Datasets/Intensity Scaled/D+_test.csv',header=None)\n",
        "# Checking images\n",
        "image_set = image_set.to_numpy();"
      ],
      "execution_count": 0,
      "outputs": []
    },
    {
      "cell_type": "code",
      "metadata": {
        "id": "YlBRAEgUyAKy",
        "colab_type": "code",
        "outputId": "9c21e1fd-901d-479d-9a6c-0cdcb4a6a387",
        "colab": {
          "base_uri": "https://localhost:8080/",
          "height": 265
        }
      },
      "source": [
        "n = round(10000-1)\n",
        "image = image_set[n,1:]\n",
        "imMat = np.reshape(image, (-1, 28))\n",
        "plt.imshow(imMat, cmap = 'Greys_r', interpolation='nearest')\n",
        "plt.show()"
      ],
      "execution_count": 0,
      "outputs": [
        {
          "output_type": "display_data",
          "data": {
            "image/png": "[encoded data removed]",
            "text/plain": [
              "<Figure size 432x288 with 1 Axes>"
            ]
          },
          "metadata": {
            "tags": []
          }
        }
      ]
    }
  ]
}