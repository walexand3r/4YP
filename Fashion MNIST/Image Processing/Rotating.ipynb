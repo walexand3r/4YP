{
  "nbformat": 4,
  "nbformat_minor": 0,
  "metadata": {
    "colab": {
      "name": "Rotating.pynb",
      "provenance": [],
      "collapsed_sections": [],
      "include_colab_link": true
    },
    "kernelspec": {
      "name": "python3",
      "display_name": "Python 3"
    },
    "accelerator": "GPU"
  },
  "cells": [
    {
      "cell_type": "markdown",
      "metadata": {
        "id": "view-in-github",
        "colab_type": "text"
      },
      "source": [
        "<a href=\"https://colab.research.google.com/github/walexand3r/4YP/blob/master/Fashion%20MNIST/Image%20Processing/Rotating.ipynb\" target=\"_parent\"><img src=\"https://colab.research.google.com/assets/colab-badge.svg\" alt=\"Open In Colab\"/></a>"
      ]
    },
    {
      "cell_type": "markdown",
      "metadata": {
        "id": "frwoCat23msY",
        "colab_type": "text"
      },
      "source": [
        "D: Image rotated by random angle\n",
        "\n",
        "D+: Image rotation corrected added in top right quadrant"
      ]
    },
    {
      "cell_type": "code",
      "metadata": {
        "id": "wD0jUE11Esps",
        "colab_type": "code",
        "colab": {}
      },
      "source": [
        "# Creates train and test data sets that have the randomly rotated image in top left (D) \n",
        "# and rotation corrected image in top right\n",
        "\n",
        "import pandas as pd\n",
        "import numpy as np\n",
        "%matplotlib inline \n",
        "from matplotlib import pyplot as plt\n",
        "from skimage import transform as tr\n",
        "from skimage import util\n",
        "from random import random \n",
        "from random import seed\n",
        "from copy import deepcopy\n"
      ],
      "execution_count": 0,
      "outputs": []
    },
    {
      "cell_type": "code",
      "metadata": {
        "id": "0BBYmUSgFpH-",
        "colab_type": "code",
        "colab": {}
      },
      "source": [
        "# Mount drive\n",
        "\n",
        "from google.colab import drive\n",
        "drive.mount('/content/drive/')"
      ],
      "execution_count": 0,
      "outputs": []
    },
    {
      "cell_type": "code",
      "metadata": {
        "id": "_FcDZi1bF0NE",
        "colab_type": "code",
        "colab": {}
      },
      "source": [
        "train = pd.read_csv('/content/drive/My Drive/4th Year/4YP/Fashion MNIST 60k/Base Images/train_base.csv',header=None).to_numpy()\n",
        "test = pd.read_csv('/content/drive/My Drive/4th Year/4YP/Fashion MNIST 60k/Base Images/test_base.csv',header=None).to_numpy()"
      ],
      "execution_count": 0,
      "outputs": []
    },
    {
      "cell_type": "code",
      "metadata": {
        "id": "RfBGe-pg1STo",
        "colab_type": "code",
        "colab": {}
      },
      "source": [
        "# Processing train image set\n",
        "\n",
        "D = np.zeros([np.size(train,0),785])\n",
        "Dplus = np.zeros([np.size(train,0),785])\n",
        "D[:,0] = train[:,0]\n",
        "Dplus[:,0] = train[:,0]\n",
        "\n",
        "for n in range(np.size(train,0)):\n",
        "  image = train[n,1:]\n",
        "  imMat = np.reshape(image, (-1, 28))\n",
        "\n",
        "  # Randomly rotating to create D\n",
        "  imtoRot = deepcopy(imMat[0:14,0:14])\n",
        "  imD = deepcopy(imMat)\n",
        "  angle = 360*random()\n",
        "  imRot = np.round(tr.rotate(imtoRot,angle, preserve_range = True))\n",
        "  imD[0:14,0:14] = imRot  \n",
        "  D[n,1:] = np.reshape(imD,(1,-1)) \n",
        "\n",
        "  # Creating D+\n",
        "  imDplus = deepcopy(imD)\n",
        "  imDplus[0:14,14:] = imMat[0:14,0:14]\n",
        "  Dplus[n,1:] = np.reshape(imDplus,(1,-1)) \n",
        "\n",
        "# Saving\n",
        "\n",
        "pd.DataFrame(D).to_csv('/content/drive/My Drive/4th Year/4YP/Fashion MNIST 60k/Processed Datasets/Rotating/D_train.csv',header=None, index=None)\n",
        "pd.DataFrame(Dplus).to_csv('/content/drive/My Drive/4th Year/4YP/Fashion MNIST 60k/Processed Datasets/Rotating/D+_train.csv',header=None, index=None)"
      ],
      "execution_count": 0,
      "outputs": []
    },
    {
      "cell_type": "code",
      "metadata": {
        "id": "YUQu7nxZ7s0e",
        "colab_type": "code",
        "colab": {}
      },
      "source": [
        "# Processing test image set\n",
        "\n",
        "D = np.zeros([np.size(test,0),785])\n",
        "Dplus = np.zeros([np.size(test,0),785])\n",
        "D[:,0] = test[:,0]\n",
        "Dplus[:,0] = test[:,0]\n",
        "\n",
        "for n in range(np.size(test,0)):\n",
        "  image = test[n,1:]\n",
        "  imMat = np.reshape(image, (-1, 28))\n",
        "\n",
        "  # Randomly rotating to create D\n",
        "  imtoRot = deepcopy(imMat[0:14,0:14])\n",
        "  imD = deepcopy(imMat)\n",
        "  angle = 360*random()\n",
        "  imRot = np.round(tr.rotate(imtoRot,angle, preserve_range = True))\n",
        "  imD[0:14,0:14] = imRot  \n",
        "  D[n,1:] = np.reshape(imD,(1,-1)) \n",
        "\n",
        "  # Creating D+\n",
        "  imDplus = deepcopy(imD)\n",
        "  imDplus[0:14,14:] = imMat[0:14,0:14]\n",
        "  Dplus[n,1:] = np.reshape(imDplus,(1,-1)) \n",
        "\n",
        "# Saving\n",
        "\n",
        "pd.DataFrame(D).to_csv('/content/drive/My Drive/4th Year/4YP/Fashion MNIST 60k/Processed Datasets/Rotating/D_test.csv',header=None, index=None)\n",
        "pd.DataFrame(Dplus).to_csv('/content/drive/My Drive/4th Year/4YP/Fashion MNIST 60k/Processed Datasets/Rotating/D+_test.csv',header=None, index=None)"
      ],
      "execution_count": 0,
      "outputs": []
    },
    {
      "cell_type": "code",
      "metadata": {
        "colab_type": "code",
        "id": "ysGRLHSK18fp",
        "colab": {}
      },
      "source": [
        "# Checking images\n",
        "n = 0#round(40000*random())\n",
        "image = Dplus[n,1:]\n",
        "imMat = np.reshape(image, (-1, 28))\n",
        "plt.imshow(imMat, cmap = 'Greys_r', interpolation='nearest')\n",
        "plt.show()"
      ],
      "execution_count": 0,
      "outputs": []
    },
    {
      "cell_type": "code",
      "metadata": {
        "id": "W690IZ_xQ7_O",
        "colab_type": "code",
        "colab": {}
      },
      "source": [
        "image_set = pd.read_csv('/content/drive/My Drive/4th Year/4YP/Fashion MNIST 60k/Processed Datasets/Rotating/D+_test.csv',header=None)\n",
        "# Checking images\n",
        "image_set = image_set.to_numpy();"
      ],
      "execution_count": 0,
      "outputs": []
    },
    {
      "cell_type": "code",
      "metadata": {
        "id": "YlBRAEgUyAKy",
        "colab_type": "code",
        "colab": {}
      },
      "source": [
        "n = round(10000*random())\n",
        "image = image_set[n,1:]\n",
        "imMat = np.reshape(image, (-1, 28))\n",
        "plt.imshow(imMat, cmap = 'Greys_r', interpolation='nearest')\n",
        "plt.show()"
      ],
      "execution_count": 0,
      "outputs": []
    }
  ]
}