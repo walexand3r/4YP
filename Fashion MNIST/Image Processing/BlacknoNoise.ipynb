{
  "nbformat": 4,
  "nbformat_minor": 0,
  "metadata": {
    "colab": {
      "name": "BlackNoise.pynb",
      "provenance": [],
      "collapsed_sections": [],
      "include_colab_link": true
    },
    "kernelspec": {
      "name": "python3",
      "display_name": "Python 3"
    },
    "accelerator": "GPU"
  },
  "cells": [
    {
      "cell_type": "markdown",
      "metadata": {
        "id": "view-in-github",
        "colab_type": "text"
      },
      "source": [
        "<a href=\"https://colab.research.google.com/github/walexand3r/4YP/blob/master/4YP/Fashion%20MNIST/Image%20Processing/BlacknoNoise.ipynb\" target=\"_parent\"><img src=\"https://colab.research.google.com/assets/colab-badge.svg\" alt=\"Open In Colab\"/></a>"
      ]
    },
    {
      "cell_type": "markdown",
      "metadata": {
        "id": "VBkndi__29ci",
        "colab_type": "text"
      },
      "source": [
        "D: Unalterred image\n",
        "\n",
        "D+: Image scaled randomly in a realistic range of values depending on its class"
      ]
    },
    {
      "cell_type": "code",
      "metadata": {
        "id": "wD0jUE11Esps",
        "colab_type": "code",
        "colab": {}
      },
      "source": [
        "import pandas as pd\n",
        "import numpy as np\n",
        "%matplotlib inline \n",
        "from matplotlib import pyplot as plt\n",
        "from skimage import transform as tr\n",
        "from skimage import util\n",
        "from random import random \n",
        "from random import seed\n",
        "from copy import deepcopy\n"
      ],
      "execution_count": 0,
      "outputs": []
    },
    {
      "cell_type": "code",
      "metadata": {
        "id": "0BBYmUSgFpH-",
        "colab_type": "code",
        "colab": {}
      },
      "source": [
        "# Mount drive\n",
        "\n",
        "from google.colab import drive\n",
        "drive.mount('/content/drive/')"
      ],
      "execution_count": 0,
      "outputs": []
    },
    {
      "cell_type": "code",
      "metadata": {
        "id": "_FcDZi1bF0NE",
        "colab_type": "code",
        "colab": {}
      },
      "source": [
        "train = pd.read_csv('/content/drive/My Drive/4th Year/4YP/Fashion MNIST 60k/Processed Datasets/Rotating/D+_train.csv',header=None).to_numpy()\n",
        "test = pd.read_csv('/content/drive/My Drive/4th Year/4YP/Fashion MNIST 60k/Processed Datasets/Rotating/D+_test.csv',header=None).to_numpy()"
      ],
      "execution_count": 0,
      "outputs": []
    },
    {
      "cell_type": "code",
      "metadata": {
        "id": "wH9_g_diLpZh",
        "colab_type": "code",
        "colab": {}
      },
      "source": [
        "# Processing train image set\n",
        "\n",
        "imProc_rs = np.zeros([60000,785])\n",
        "imProc_rs[:,0] = train[:,0]\n",
        "\n",
        "for n in range(np.size(train,0)):\n",
        "  image = train[n,1:]\n",
        "  imMat = np.reshape(image, (-1, 28))\n",
        "\n",
        "  # Scaling according to scale factor \n",
        "\n",
        "  #imMat[0:14,14:28] = 0\n",
        "  imMat[14:28,:] = 0\n",
        "\n",
        "  imProc_rs[n,1:] = np.reshape(imMat,(1,-1)) \n",
        "\n",
        "# Saving\n",
        "pd.DataFrame(imProc_rs).to_csv('/content/drive/My Drive/4th Year/4YP/Fashion MNIST 60k/Invariance Testing/Black/Rotating/D+_train.csv',header=None, index=None)\n"
      ],
      "execution_count": 0,
      "outputs": []
    },
    {
      "cell_type": "code",
      "metadata": {
        "id": "hdscLiMHR5DG",
        "colab_type": "code",
        "colab": {}
      },
      "source": [
        "# Processing test image set\n",
        "\n",
        "imProc_rs = np.zeros([10000,785])\n",
        "imProc_rs[:,0] = test[:,0]\n",
        "\n",
        "for n in range(np.size(test,0)):\n",
        "  image = test[n,1:]\n",
        "  imMat = np.reshape(image, (-1, 28))\n",
        "\n",
        "  #imMat[0:14,14:28] = 0\n",
        "  imMat[14:28,:] = 0\n",
        "\n",
        "  imProc_rs[n,1:] = np.reshape(imMat,(1,-1)) \n",
        "\n",
        "# Saving\n",
        "\n",
        "pd.DataFrame(imProc_rs).to_csv('/content/drive/My Drive/4th Year/4YP/Fashion MNIST 60k/Invariance Testing/Black/Rotating/D+_test.csv',header=None, index=None)\n"
      ],
      "execution_count": 0,
      "outputs": []
    },
    {
      "cell_type": "code",
      "metadata": {
        "id": "YlBRAEgUyAKy",
        "colab_type": "code",
        "colab": {}
      },
      "source": [
        "# Checking images\n",
        "n = round(40000*random())\n",
        "image = imProc_base[n,1:]\n",
        "imMat = np.reshape(image, (-1, 28))\n",
        "plt.imshow(imMat, cmap = 'Greys_r', interpolation='nearest')\n",
        "plt.show()"
      ],
      "execution_count": 0,
      "outputs": []
    },
    {
      "cell_type": "code",
      "metadata": {
        "id": "W690IZ_xQ7_O",
        "colab_type": "code",
        "colab": {}
      },
      "source": [
        "image_set = pd.read_csv('/content/drive/My Drive/4th Year/4YP/Fashion MNIST 60k/Invariance Testing/Black/D_train.csv',header=None)\n",
        "# Checking images\n",
        "image_set = image_set.to_numpy();"
      ],
      "execution_count": 0,
      "outputs": []
    },
    {
      "cell_type": "code",
      "metadata": {
        "id": "rHgGTcTTTbcw",
        "colab_type": "code",
        "colab": {}
      },
      "source": [
        "n = round(10000*random())\n",
        "image = image_set[n,1:]\n",
        "imMat = np.reshape(image, (-1, 28))\n",
        "plt.imshow(imMat, cmap = 'Greys_r', interpolation='nearest')\n",
        "plt.show()"
      ],
      "execution_count": 0,
      "outputs": []
    }
  ]
}
