{
  "nbformat": 4,
  "nbformat_minor": 0,
  "metadata": {
    "colab": {
      "name": "Scaling&Rotating.pynb",
      "provenance": [],
      "collapsed_sections": [],
      "include_colab_link": true
    },
    "kernelspec": {
      "name": "python3",
      "display_name": "Python 3"
    },
    "accelerator": "GPU"
  },
  "cells": [
    {
      "cell_type": "markdown",
      "metadata": {
        "id": "view-in-github",
        "colab_type": "text"
      },
      "source": [
        "<a href=\"https://colab.research.google.com/github/walexand3r/4YP/blob/master/Fashion%20MNIST/Image%20Processing/Scaling%26Rotating_pynb.ipynb\" target=\"_parent\"><img src=\"https://colab.research.google.com/assets/colab-badge.svg\" alt=\"Open In Colab\"/></a>"
      ]
    },
    {
      "cell_type": "markdown",
      "metadata": {
        "id": "aWCzYJID2aNf",
        "colab_type": "text"
      },
      "source": [
        "D: Image rotated a random angle\n",
        "\n",
        "D+: Added image still rotated but scaled to realistic size"
      ]
    },
    {
      "cell_type": "code",
      "metadata": {
        "id": "wD0jUE11Esps",
        "colab_type": "code",
        "colab": {}
      },
      "source": [
        "import pandas as pd\n",
        "import numpy as np\n",
        "%matplotlib inline \n",
        "from matplotlib import pyplot as plt\n",
        "from skimage import transform as tr\n",
        "from skimage import util\n",
        "from random import random \n",
        "from random import seed\n",
        "from copy import deepcopy\n"
      ],
      "execution_count": 0,
      "outputs": []
    },
    {
      "cell_type": "code",
      "metadata": {
        "id": "d7b28MB0igMu",
        "colab_type": "code",
        "colab": {}
      },
      "source": [
        "# Defining scale factors\n",
        "sftable = np.array([0.6,0.9,0.7,1,0.8,0.2,0.65,0.25,0.2,0.3])    \n",
        "\n",
        " # Indexes correspond to classes\n",
        " # Top Trousers Pullover Dress Coat Sandal Shirt Sneaker Bag Ankle Boot"
      ],
      "execution_count": 0,
      "outputs": []
    },
    {
      "cell_type": "code",
      "metadata": {
        "id": "0BBYmUSgFpH-",
        "colab_type": "code",
        "colab": {}
      },
      "source": [
        "# Mount drive\n",
        "\n",
        "from google.colab import drive\n",
        "drive.mount('/content/drive/')"
      ],
      "execution_count": 0,
      "outputs": []
    },
    {
      "cell_type": "code",
      "metadata": {
        "id": "_FcDZi1bF0NE",
        "colab_type": "code",
        "colab": {}
      },
      "source": [
        "train = pd.read_csv('/content/drive/My Drive/4th Year/4YP/Fashion MNIST 60k/Base Images/train_base.csv',header=None).to_numpy()\n",
        "test = pd.read_csv('/content/drive/My Drive/4th Year/4YP/Fashion MNIST 60k/Base Images/test_base.csv',header=None).to_numpy()"
      ],
      "execution_count": 0,
      "outputs": []
    },
    {
      "cell_type": "code",
      "metadata": {
        "id": "5fqXmWeEFHgV",
        "colab_type": "code",
        "colab": {}
      },
      "source": [
        "print(train[n,0])"
      ],
      "execution_count": 0,
      "outputs": []
    },
    {
      "cell_type": "code",
      "metadata": {
        "id": "wH9_g_diLpZh",
        "colab_type": "code",
        "colab": {}
      },
      "source": [
        "# Producing train data\n",
        "\n",
        "D = np.zeros([np.size(train,0),785])\n",
        "Dplus = np.zeros([np.size(train,0),785])\n",
        "D[:,0] = train[:,0]\n",
        "Dplus[:,0] = train[:,0]\n",
        "\n",
        "for n in range(np.size(train,0)):\n",
        "  image = train[n,1:]\n",
        "  index = int(train[n,0])\n",
        "  sf = sftable[index]\n",
        "  imMat = np.reshape(image, (-1, 28))\n",
        "\n",
        "  # Randomly rotating\n",
        "  imtoRot = deepcopy(imMat[0:14,0:14])\n",
        "  imD = deepcopy(imMat)\n",
        "\n",
        "  angle = 360*random()\n",
        "  imRot = np.round(tr.rotate(imtoRot,angle, preserve_range = True))\n",
        "  imD[0:14,0:14] = imRot  \n",
        "  D[n,1:] = np.reshape(imD,(1,-1)) \n",
        "\n",
        "  # Scaling according to scale factor \n",
        "  imtoScale = imRot\n",
        "  imScale = np.round(tr.rescale(imtoScale,sf,preserve_range = True))\n",
        "  padAmount = 14 - imScale.shape[0]\n",
        "  imScale = util.pad(imScale,((0,padAmount),(0,padAmount)))\n",
        "\n",
        "  imDplus = deepcopy(imD)\n",
        "  imDplus[14:28,0:14] = imScale \n",
        "\n",
        "  Dplus[n,1:] = np.reshape(imDplus,(1,-1)) \n",
        "\n",
        "# Saving\n",
        "pd.DataFrame(D).to_csv('/content/drive/My Drive/4th Year/4YP/Fashion MNIST 60k/Processed Datasets/Rotated&Scaled/D_train.csv',header=None, index=None)\n",
        "pd.DataFrame(Dplus).to_csv('/content/drive/My Drive/4th Year/4YP/Fashion MNIST 60k/Processed Datasets/Rotated&Scaled/D+_train.csv',header=None, index=None)\n",
        "\n",
        "\n"
      ],
      "execution_count": 0,
      "outputs": []
    },
    {
      "cell_type": "code",
      "metadata": {
        "id": "1vJDGuVCFyic",
        "colab_type": "code",
        "colab": {}
      },
      "source": [
        "# Producing test data\n",
        "\n",
        "D = np.zeros([np.size(test,0),785])\n",
        "Dplus = np.zeros([np.size(test,0),785])\n",
        "D[:,0] = test[:,0]\n",
        "Dplus[:,0] = test[:,0]\n",
        "\n",
        "for n in range(np.size(test,0)):\n",
        "  image = test[n,1:]\n",
        "  index = int(test[n,0])\n",
        "  sf = sftable[index]\n",
        "  imMat = np.reshape(image, (-1, 28))\n",
        "\n",
        "  # Randomly rotating\n",
        "  imtoRot = deepcopy(imMat[0:14,0:14])\n",
        "  imD = deepcopy(imMat)\n",
        "\n",
        "  angle = 360*random()\n",
        "  imRot = np.round(tr.rotate(imtoRot,angle, preserve_range = True))\n",
        "  imD[0:14,0:14] = imRot  \n",
        "  D[n,1:] = np.reshape(imD,(1,-1)) \n",
        "\n",
        "  # Scaling according to scale factor \n",
        "  imtoScale = imRot\n",
        "  imScale = np.round(tr.rescale(imtoScale,sf,preserve_range = True))\n",
        "  padAmount = 14 - imScale.shape[0]\n",
        "  imScale = util.pad(imScale,((0,padAmount),(0,padAmount)))\n",
        "\n",
        "  imDplus = deepcopy(imD)\n",
        "  imDplus[14:28,0:14] = imScale \n",
        "\n",
        "  Dplus[n,1:] = np.reshape(imDplus,(1,-1)) \n",
        "\n",
        "# Saving\n",
        "pd.DataFrame(D).to_csv('/content/drive/My Drive/4th Year/4YP/Fashion MNIST 60k/Processed Datasets/Rotated&Scaled/D_test.csv',header=None, index=None)\n",
        "pd.DataFrame(Dplus).to_csv('/content/drive/My Drive/4th Year/4YP/Fashion MNIST 60k/Processed Datasets/Rotated&Scaled/D+_test.csv',header=None, index=None)\n"
      ],
      "execution_count": 0,
      "outputs": []
    },
    {
      "cell_type": "code",
      "metadata": {
        "colab_type": "code",
        "id": "ysGRLHSK18fp",
        "colab": {}
      },
      "source": [
        "# Checking images\n",
        "n = 0#round(40000*random())\n",
        "image = Dplus[n,1:]\n",
        "imMat = np.reshape(image, (-1, 28))\n",
        "plt.imshow(imMat, cmap = 'Greys_r', interpolation='nearest')\n",
        "plt.show()"
      ],
      "execution_count": 0,
      "outputs": []
    },
    {
      "cell_type": "code",
      "metadata": {
        "id": "W690IZ_xQ7_O",
        "colab_type": "code",
        "colab": {}
      },
      "source": [
        "image_set = pd.read_csv('/content/drive/My Drive/4th Year/4YP/Fashion MNIST 60k/Processed Datasets/Rotated&Scaled/D+_test.csv',header=None)\n",
        "# Checking images\n",
        "image_set = image_set.to_numpy();"
      ],
      "execution_count": 0,
      "outputs": []
    },
    {
      "cell_type": "code",
      "metadata": {
        "id": "YlBRAEgUyAKy",
        "colab_type": "code",
        "colab": {}
      },
      "source": [
        "n = round(10000*random())\n",
        "image = image_set[n,1:]\n",
        "imMat = np.reshape(image, (-1, 28))\n",
        "plt.imshow(imMat, cmap = 'Greys_r', interpolation='nearest')\n",
        "plt.show()"
      ],
      "execution_count": 0,
      "outputs": []
    }
  ]
}