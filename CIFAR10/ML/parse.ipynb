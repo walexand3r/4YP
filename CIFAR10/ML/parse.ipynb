{
  "nbformat": 4,
  "nbformat_minor": 0,
  "metadata": {
    "colab": {
      "name": "parse.ipynb",
      "provenance": [],
      "authorship_tag": "ABX9TyPlmubKD+Yk0dPGC9PnH4G6",
      "include_colab_link": true
    },
    "kernelspec": {
      "name": "python3",
      "display_name": "Python 3"
    }
  },
  "cells": [
    {
      "cell_type": "markdown",
      "metadata": {
        "id": "view-in-github",
        "colab_type": "text"
      },
      "source": [
        "<a href=\"https://colab.research.google.com/github/walexand3r/4YP/blob/master/CIFAR10/ML/parse.ipynb\" target=\"_parent\"><img src=\"https://colab.research.google.com/assets/colab-badge.svg\" alt=\"Open In Colab\"/></a>"
      ]
    },
    {
      "cell_type": "markdown",
      "metadata": {
        "id": "CuQZQMzx20c1",
        "colab_type": "text"
      },
      "source": [
        "Function to parse results files to JSON format required by hypoML"
      ]
    },
    {
      "cell_type": "code",
      "metadata": {
        "id": "IpI6z8wSPOzV",
        "colab_type": "code",
        "colab": {}
      },
      "source": [
        "import os\n",
        "import pandas as pd\n",
        "import json\n",
        "from sklearn.metrics import classification_report\n",
        "\n",
        "# Mount drive\n",
        "from google.colab import drive\n",
        "drive.mount('/content/drive/')\n"
      ],
      "execution_count": 0,
      "outputs": []
    },
    {
      "cell_type": "code",
      "metadata": {
        "id": "SFBd3BO9P_0v",
        "colab_type": "code",
        "colab": {}
      },
      "source": [
        "folder = 'MaxPool2'\n",
        "path = '/content/drive/My Drive/4th Year/4YP/CIFAR10/Results/hypoML Testing/CNumber/' + folder +'/'\n",
        "outputName = 'CNMP2'"
      ],
      "execution_count": 0,
      "outputs": []
    },
    {
      "cell_type": "code",
      "metadata": {
        "id": "MgjXjJv8X2Ay",
        "colab_type": "code",
        "colab": {}
      },
      "source": [
        "dump(folder)"
      ],
      "execution_count": 0,
      "outputs": []
    },
    {
      "cell_type": "code",
      "metadata": {
        "id": "6XiDEQ83PnLB",
        "colab_type": "code",
        "colab": {}
      },
      "source": [
        "def dump(folder, dataname='cifar10'):\n",
        "  for filename in os.listdir(path):\n",
        "\n",
        "    if not '.csv' in filename:\n",
        "      continue\n",
        "\n",
        "    is_m = (1 if 'M+' in filename else 0)\n",
        "    is_d = (1 if 'D+' in filename else 0)\n",
        "\n",
        "    df = pd.read_csv(path + filename,header = None)\n",
        "    y_true = [int(i) for i in df.iloc[:,1].tolist()]\n",
        "    y_pred = [int(i) for i in df.iloc[:,2].tolist()]\n",
        "    \n",
        "    results = classification_report(y_true, y_pred, digits=4, output_dict = True)\n",
        "                                    \n",
        "    res_path = path + \"{}_{}.json\".format(dataname, outputName)\n",
        "    res_json = {}\n",
        "\n",
        "    if os.path.exists(res_path):\n",
        "      with open(res_path, 'r') as f:\n",
        "        res_json = json.load(f)\n",
        "\n",
        "    results['avg']=results[\"weighted avg\"]\n",
        "    del results[\"weighted avg\"]\n",
        "    res_json['{}{}'.format(is_m, is_d)] = results \n",
        "\n",
        "    with open(res_path, 'w') as f:\n",
        "      json.dump(res_json, f)\n",
        "\n",
        "\n"
      ],
      "execution_count": 0,
      "outputs": []
    }
  ]
}