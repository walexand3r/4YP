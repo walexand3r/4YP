{
  "nbformat": 4,
  "nbformat_minor": 0,
  "metadata": {
    "colab": {
      "name": "HSV",
      "provenance": [],
      "authorship_tag": "ABX9TyPIyFQHiNZA76gu6oq5Vikl",
      "include_colab_link": true
    },
    "kernelspec": {
      "name": "python3",
      "display_name": "Python 3"
    },
    "accelerator": "GPU"
  },
  "cells": [
    {
      "cell_type": "markdown",
      "metadata": {
        "id": "view-in-github",
        "colab_type": "text"
      },
      "source": [
        "<a href=\"https://colab.research.google.com/github/walexand3r/4YP/blob/master/CIFAR10/Image%20Processing/Preliminary%20Testing/HSV.ipynb\" target=\"_parent\"><img src=\"https://colab.research.google.com/assets/colab-badge.svg\" alt=\"Open In Colab\"/></a>"
      ]
    },
    {
      "cell_type": "markdown",
      "metadata": {
        "id": "3yFycVoo38g3",
        "colab_type": "text"
      },
      "source": [
        "This function converts CIFAR10 from RGB to HSV\n"
      ]
    },
    {
      "cell_type": "code",
      "metadata": {
        "id": "tF_Rn8YNxWuA",
        "colab_type": "code",
        "colab": {}
      },
      "source": [
        "%tensorflow_version 2.x\n",
        "import tensorflow as tf\n",
        "from tensorflow.keras.datasets import cifar10\n",
        "import pandas as pd\n",
        "import numpy as np\n",
        "from matplotlib import pyplot as plt\n",
        "%matplotlib inline \n",
        "from skimage import transform as tr\n",
        "from skimage import util\n",
        "from skimage.color import rgb2hsv, hsv2rgb\n",
        "\n"
      ],
      "execution_count": 0,
      "outputs": []
    },
    {
      "cell_type": "code",
      "metadata": {
        "colab_type": "code",
        "id": "lT-M1Dl5y0kz",
        "colab": {}
      },
      "source": [
        "# Mount drive\n",
        "from google.colab import drive\n",
        "drive.mount('/content/drive/')"
      ],
      "execution_count": 0,
      "outputs": []
    },
    {
      "cell_type": "code",
      "metadata": {
        "id": "w9KYxs7_xint",
        "colab_type": "code",
        "colab": {}
      },
      "source": [
        "# Load in cifar10 data (RGB):\n",
        "(x_train, y_train), (x_test, y_test) = cifar10.load_data()\n",
        "\n",
        "n_train = np.size(x_train,0)\n",
        "n_test = np.size(x_test,0)\n",
        "im_dim = np.size(x_test,1)\n",
        "row_length = im_dim * im_dim * 3\n",
        "# shape = x_train.shape"
      ],
      "execution_count": 0,
      "outputs": []
    },
    {
      "cell_type": "code",
      "metadata": {
        "id": "4QinaXhZ0_BR",
        "colab_type": "code",
        "colab": {}
      },
      "source": [
        "train_hsv = np.zeros([n_train,row_length + 1])\n",
        "test_hsv = np.zeros([n_test,row_length + 1])\n",
        "\n",
        "# for n in range(0,n_train):\n",
        "#   rgb_img = x_train[n,:,:,:]\n",
        "#   hsv_img = rgb2hsv(rgb_img)\n",
        "#   #hsv_img = np.round(255*hsv_img)\n",
        "#   train_hsv[n,1:] = hsv_img.flatten()\n",
        "\n",
        "# #print('Commencing Saving...')\n",
        "\n",
        "for n in range(0,n_test):\n",
        "  rgb_img_test = x_test[n,:,:,:]\n",
        "  hsv_img_test = rgb2hsv(rgb_img_test)\n",
        "  #hsv_img_test = np.round(255*hsv_img_test)\n",
        "  test_hsv[n,1:] = hsv_img_test.flatten()\n",
        "\n",
        "train_hsv[:,0] = y_train[:,0]\n",
        "test_hsv[:,0] = y_test[:,0]\n",
        "\n",
        "# Saving\n",
        "#pd.DataFrame(train_hsv).to_csv('/content/drive/My Drive/4th Year/4YP/CIFAR10/Processed Datasets/HSV/train_hsv.csv',header=None, index=None)\n",
        "pd.DataFrame(test_hsv).to_csv('/content/drive/My Drive/4th Year/4YP/CIFAR10/Processed Datasets/HSV/test_hsv.csv',header=None, index=None)\n"
      ],
      "execution_count": 0,
      "outputs": []
    },
    {
      "cell_type": "code",
      "metadata": {
        "id": "FdSlmIeNNO0B",
        "colab_type": "code",
        "colab": {}
      },
      "source": [
        "# print(train_hsv[1,0:20])\n",
        "img_flat = train_hsv[1,:]\n",
        "#img_flat.shape\n",
        "img_hsv = img_flat[1:].reshape(32,32,3) /255\n",
        "\n",
        "# Viewing different channels of image\n",
        "\n",
        "rgb_img = hsv2rgb(img_hsv)\n",
        "hue_img = img_hsv[:,:,0]\n",
        "value_img = img_hsv[:,:,1]\n",
        "\n",
        "fig, (ax0, ax1, ax2, ax3) = plt.subplots(ncols=4, figsize=(8, 10))\n",
        "ax0.imshow(rgb_img)\n",
        "ax0.set_title(\"RGB image\")\n",
        "ax0.axis('off')\n",
        "ax1.imshow(img_hsv, cmap='hsv')\n",
        "ax1.set_title(\"HSV channel\")\n",
        "ax1.axis('off')\n",
        "ax2.imshow(hue_img, cmap='hsv')\n",
        "ax2.set_title(\"Hue channel\")\n",
        "ax2.axis('off')\n",
        "ax3.imshow(value_img, cmap='hsv')\n",
        "ax3.set_title(\"Value channel\")\n",
        "ax3.axis('off')"
      ],
      "execution_count": 0,
      "outputs": []
    },
    {
      "cell_type": "code",
      "metadata": {
        "id": "Lwz3zYVZBX4w",
        "colab_type": "code",
        "colab": {}
      },
      "source": [
        "# Checking images from imported data\n",
        "n = round(60000*random())\n",
        "imMat = np.reshape(train_processed[n,1:], (-1, 28))\n",
        "plt.imshow(imMat, cmap = 'Greys_r', interpolation='nearest')\n",
        "plt.show()"
      ],
      "execution_count": 0,
      "outputs": []
    },
    {
      "cell_type": "code",
      "metadata": {
        "id": "4074MKTeEUDx",
        "colab_type": "code",
        "colab": {}
      },
      "source": [
        "# Checking images from saved data\n",
        "image_set = pd.read_csv('/content/drive/My Drive/4th Year/4YP/Fashion MNIST 60k/Base Images/test_base.csv',header=None)\n",
        "image_set = image_set.to_numpy();\n",
        "image_set = image_set[:n_test,:]\n"
      ],
      "execution_count": 0,
      "outputs": []
    },
    {
      "cell_type": "code",
      "metadata": {
        "id": "kUcVMHlIEsSg",
        "colab_type": "code",
        "colab": {}
      },
      "source": [
        "n = round(10000*random())\n",
        "\n",
        "image = image_set[n,1:]\n",
        "imMat = np.reshape(image, (-1, 28))\n",
        "plt.imshow(imMat, cmap = 'Greys_r', interpolation='nearest')\n",
        "plt.show()"
      ],
      "execution_count": 0,
      "outputs": []
    }
  ]
}