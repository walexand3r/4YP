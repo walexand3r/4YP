{
  "nbformat": 4,
  "nbformat_minor": 0,
  "metadata": {
    "colab": {
      "name": "Untitled0.ipynb",
      "provenance": [],
      "authorship_tag": "ABX9TyNGphw1K6Tzi3xfIFIuhElW",
      "include_colab_link": true
    },
    "kernelspec": {
      "name": "python3",
      "display_name": "Python 3"
    }
  },
  "cells": [
    {
      "cell_type": "markdown",
      "metadata": {
        "id": "view-in-github",
        "colab_type": "text"
      },
      "source": [
        "<a href=\"https://colab.research.google.com/github/walexand3r/4YP/blob/master/CIFAR10/Image%20Processing/hypoML%20Testing/noise.ipynb\" target=\"_parent\"><img src=\"https://colab.research.google.com/assets/colab-badge.svg\" alt=\"Open In Colab\"/></a>"
      ]
    },
    {
      "cell_type": "markdown",
      "metadata": {
        "id": "leA3x7rzSw8v",
        "colab_type": "text"
      },
      "source": [
        "Produces noise images for D data. As in range 0-1, can be used for RGB, HSV and LAB testing"
      ]
    },
    {
      "cell_type": "code",
      "metadata": {
        "id": "tF_Rn8YNxWuA",
        "colab_type": "code",
        "colab": {}
      },
      "source": [
        "import pandas as pd\n",
        "import numpy as np\n",
        "from random import random, randint\n",
        "\n"
      ],
      "execution_count": 0,
      "outputs": []
    },
    {
      "cell_type": "code",
      "metadata": {
        "colab_type": "code",
        "id": "lT-M1Dl5y0kz",
        "colab": {}
      },
      "source": [
        "# Mount drive\n",
        "from google.colab import drive\n",
        "drive.mount('/content/drive/')"
      ],
      "execution_count": 0,
      "outputs": []
    },
    {
      "cell_type": "code",
      "metadata": {
        "id": "pxDkuTUq2z8F",
        "colab_type": "code",
        "colab": {}
      },
      "source": [
        "# Producing '+' Dataset that only contains random noise\n",
        "row_length = (32*32*3) + 1\n",
        "n_train = 50000\n",
        "n_test = 10000\n",
        "train_plus = np.zeros([n_train,row_length])\n",
        "test_plus = np.zeros([n_test,row_length])\n",
        "\n",
        "for n in range(0,n_train):\n",
        "  img = np.zeros([32,32,3])\n",
        "  for i in range (0,32):\n",
        "      for j in range(0,32):\n",
        "        img[i,j,0] = random()\n",
        "        img[i,j,1] = random()\n",
        "        img[i,j,2] = random()\n",
        "  train_plus[n,0] = randint(0,9)\n",
        "  train_plus[n,1:] = img[:,:,:].flatten()\n",
        "\n",
        "for n in range(0,n_test):\n",
        "  img = np.zeros([32,32,3])\n",
        "  for i in range (0,32):\n",
        "      for j in range(0,32):\n",
        "        img[i,j,0] = random()\n",
        "        img[i,j,1] = random()\n",
        "        img[i,j,2] = random()\n",
        "  test_plus[n,0] = randint(0,9)\n",
        "  test_plus[n,1:] = img[:,:,:].flatten()\n",
        "\n",
        "print('Commencing Saving...')\n",
        "\n",
        "# Saving\n",
        "#pd.DataFrame(train_hsv).to_csv('/content/drive/My Drive/4th Year/4YP/CIFAR10/Processed Datasets/+/+_train.csv',header=None, index=None)\n",
        "#pd.DataFrame(test_hsv).to_csv('/content/drive/My Drive/4th Year/4YP/CIFAR10/Processed Datasets/+/+_test.csv',header=None, index=None)\n"
      ],
      "execution_count": 0,
      "outputs": []
    }
  ]
}