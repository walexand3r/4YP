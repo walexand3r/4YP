{
  "nbformat": 4,
  "nbformat_minor": 0,
  "metadata": {
    "colab": {
      "name": "Untitled0.ipynb",
      "provenance": [],
      "authorship_tag": "ABX9TyPKi4/v2RkkVfSM4MWNXWJY",
      "include_colab_link": true
    },
    "kernelspec": {
      "name": "python3",
      "display_name": "Python 3"
    }
  },
  "cells": [
    {
      "cell_type": "markdown",
      "metadata": {
        "id": "view-in-github",
        "colab_type": "text"
      },
      "source": [
        "<a href=\"https://colab.research.google.com/github/walexand3r/4YP/blob/master/CIFAR10/Image%20Processing/hypoML%20Testing/LAB.ipynb\" target=\"_parent\"><img src=\"https://colab.research.google.com/assets/colab-badge.svg\" alt=\"Open In Colab\"/></a>"
      ]
    },
    {
      "cell_type": "markdown",
      "metadata": {
        "id": "leA3x7rzSw8v",
        "colab_type": "text"
      },
      "source": [
        "Converting RBG Cifar10 images to LAB"
      ]
    },
    {
      "cell_type": "code",
      "metadata": {
        "id": "tF_Rn8YNxWuA",
        "colab_type": "code",
        "colab": {}
      },
      "source": [
        "%tensorflow_version 2.x\n",
        "import tensorflow as tf\n",
        "from tensorflow.keras.datasets import cifar10\n",
        "import pandas as pd\n",
        "import numpy as np\n",
        "from matplotlib import pyplot as plt\n",
        "%matplotlib inline \n",
        "from skimage import transform as tr\n",
        "from skimage import util, color\n",
        "from skimage.color import rgb2hsv, hsv2rgb, rgb2lab\n",
        "from random import random, randint"
      ],
      "execution_count": 0,
      "outputs": []
    },
    {
      "cell_type": "code",
      "metadata": {
        "colab_type": "code",
        "id": "lT-M1Dl5y0kz",
        "colab": {}
      },
      "source": [
        "# Mount drive\n",
        "from google.colab import drive\n",
        "drive.mount('/content/drive/')"
      ],
      "execution_count": 0,
      "outputs": []
    },
    {
      "cell_type": "code",
      "metadata": {
        "id": "w9KYxs7_xint",
        "colab_type": "code",
        "colab": {}
      },
      "source": [
        "# Load in cifar10 data (RGB):\n",
        "(x_train, y_train), (x_test, y_test) = cifar10.load_data()\n",
        "\n",
        "n_train = np.size(x_train,0)\n",
        "n_test = np.size(x_test,0)\n",
        "im_dim = np.size(x_test,1)\n",
        "row_length = im_dim * im_dim * 3"
      ],
      "execution_count": 0,
      "outputs": []
    },
    {
      "cell_type": "code",
      "metadata": {
        "colab_type": "code",
        "id": "zORF5PyRS7Dj",
        "colab": {}
      },
      "source": [
        "# Scaling rgb to 0-1 before conversion\n",
        "\n",
        "train_lab = np.zeros([n_train,row_length + 1])\n",
        "test_lab = np.zeros([n_test,row_length + 1])\n",
        "\n",
        "for n in range(0,n_train):\n",
        "  rgb_img_train = x_train[n,:,:,:] / 255\n",
        "  lab_img_train = rgb2lab(rgb_img_train)\n",
        "  lab_scaled_train = (lab_img_train + [0, 128, 128]) / [100, 255, 255]\n",
        "  train_lab[n,1:] = lab_scaled_train.flatten()\n",
        "\n",
        "for n in range(0,n_test):\n",
        "  rgb_img_test = x_test[n,:,:,:] / 255\n",
        "  lab_img_test = rgb2lab(rgb_img_test)\n",
        "  lab_scaled_test = (lab_img_test + [0, 128, 128]) / [100, 255, 255]\n",
        "  test_lab[n,1:] = lab_scaled_test.flatten()\n",
        "\n",
        "train_lab[:,0] = y_train[:,0]\n",
        "test_lab[:,0] = y_test[:,0]\n",
        "\n",
        "print('Commencing Saving...')\n",
        "\n",
        "# Saving\n",
        "pd.DataFrame(train_lab).to_csv('/content/drive/My Drive/4th Year/4YP/CIFAR10/Processed Datasets/RGBLAB/LAB_train2.csv',header=None, index=None)\n",
        "pd.DataFrame(test_lab).to_csv('/content/drive/My Drive/4th Year/4YP/CIFAR10/Processed Datasets/RGBLAB/LAB_test2.csv',header=None, index=None)\n"
      ],
      "execution_count": 0,
      "outputs": []
    }
  ]
}