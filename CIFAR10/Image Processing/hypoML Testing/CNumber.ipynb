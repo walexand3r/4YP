{
  "nbformat": 4,
  "nbformat_minor": 0,
  "metadata": {
    "colab": {
      "name": "CNumber",
      "provenance": [],
      "authorship_tag": "ABX9TyM6bt/40IFo/3yJvpHiNHNE",
      "include_colab_link": true
    },
    "kernelspec": {
      "name": "python3",
      "display_name": "Python 3"
    }
  },
  "cells": [
    {
      "cell_type": "markdown",
      "metadata": {
        "id": "view-in-github",
        "colab_type": "text"
      },
      "source": [
        "<a href=\"https://colab.research.google.com/github/walexand3r/4YP/blob/master/CIFAR10/Image%20Processing/hypoML%20Testing/CNumber.ipynb\" target=\"_parent\"><img src=\"https://colab.research.google.com/assets/colab-badge.svg\" alt=\"Open In Colab\"/></a>"
      ]
    },
    {
      "cell_type": "markdown",
      "metadata": {
        "id": "3yFycVoo38g3",
        "colab_type": "text"
      },
      "source": [
        "This function produces D+ images, adding greyscale image of number representing class label\n"
      ]
    },
    {
      "cell_type": "code",
      "metadata": {
        "id": "tF_Rn8YNxWuA",
        "colab_type": "code",
        "colab": {}
      },
      "source": [
        "%tensorflow_version 2.x\n",
        "import tensorflow as tf\n",
        "from tensorflow.keras.datasets import cifar10\n",
        "import pandas as pd\n",
        "import numpy as np\n",
        "from matplotlib import pyplot as plt\n",
        "%matplotlib inline \n",
        "from skimage import transform as tr\n",
        "from skimage import util, io\n",
        "from skimage.color import rgb2hsv, hsv2rgb\n",
        "from random import random, randint\n",
        "\n"
      ],
      "execution_count": 0,
      "outputs": []
    },
    {
      "cell_type": "code",
      "metadata": {
        "colab_type": "code",
        "id": "lT-M1Dl5y0kz",
        "colab": {}
      },
      "source": [
        "# Mount drive\n",
        "from google.colab import drive\n",
        "drive.mount('/content/drive/')"
      ],
      "execution_count": 0,
      "outputs": []
    },
    {
      "cell_type": "code",
      "metadata": {
        "id": "w9KYxs7_xint",
        "colab_type": "code",
        "colab": {}
      },
      "source": [
        "# Load in cifar10 data (RGB):\n",
        "(x_train, y_train), (x_test, y_test) = cifar10.load_data()\n",
        "\n",
        "n_train = np.size(x_train,0)\n",
        "n_test = np.size(x_test,0)\n",
        "im_dim = np.size(x_test,1)\n",
        "row_length = im_dim * im_dim * 3\n",
        "# shape = x_train.shape"
      ],
      "execution_count": 0,
      "outputs": []
    },
    {
      "cell_type": "code",
      "metadata": {
        "id": "ZVvWgvConJH1",
        "colab_type": "code",
        "colab": {}
      },
      "source": [
        "# Loading class number images\n",
        "\n",
        "img = skimage.io.imread('/content/drive/My Drive/4th Year/4YP/Fashion MNIST 60k/Image Processing Functions/ClassNumber/0.jpg',as_gray = True)\n",
        "im0 = np.reshape(img, (-1, 14))\n",
        "\n",
        "img = skimage.io.imread('/content/drive/My Drive/4th Year/4YP/Fashion MNIST 60k/Image Processing Functions/ClassNumber/1.jpg',as_gray = True)\n",
        "im1 = np.reshape(img, (-1, 14))\n",
        "\n",
        "img = skimage.io.imread('/content/drive/My Drive/4th Year/4YP/Fashion MNIST 60k/Image Processing Functions/ClassNumber/2.jpg',as_gray = True)\n",
        "im2 = np.reshape(img, (-1, 14))\n",
        "\n",
        "img = skimage.io.imread('/content/drive/My Drive/4th Year/4YP/Fashion MNIST 60k/Image Processing Functions/ClassNumber/3.jpg',as_gray = True)\n",
        "im3 = np.reshape(img, (-1, 14))\n",
        "\n",
        "img = skimage.io.imread('/content/drive/My Drive/4th Year/4YP/Fashion MNIST 60k/Image Processing Functions/ClassNumber/4.jpg',as_gray = True)\n",
        "im4 = np.reshape(img, (-1, 14))\n",
        "\n",
        "img = skimage.io.imread('/content/drive/My Drive/4th Year/4YP/Fashion MNIST 60k/Image Processing Functions/ClassNumber/5.jpg',as_gray = True)\n",
        "im5 = np.reshape(img, (-1, 14))\n",
        "\n",
        "img = skimage.io.imread('/content/drive/My Drive/4th Year/4YP/Fashion MNIST 60k/Image Processing Functions/ClassNumber/6.jpg',as_gray = True)\n",
        "im6 = np.reshape(img, (-1, 14))\n",
        "\n",
        "img = skimage.io.imread('/content/drive/My Drive/4th Year/4YP/Fashion MNIST 60k/Image Processing Functions/ClassNumber/7.jpg',as_gray = True)\n",
        "im7 = np.reshape(img, (-1, 14))\n",
        "\n",
        "img = skimage.io.imread('/content/drive/My Drive/4th Year/4YP/Fashion MNIST 60k/Image Processing Functions/ClassNumber/8.jpg',as_gray = True)\n",
        "im8 = np.reshape(img, (-1, 14))\n",
        "\n",
        "img = skimage.io.imread('/content/drive/My Drive/4th Year/4YP/Fashion MNIST 60k/Image Processing Functions/ClassNumber/9.jpg',as_gray = True)\n",
        "im9 = np.reshape(img, (-1, 14))\n"
      ],
      "execution_count": 0,
      "outputs": []
    },
    {
      "cell_type": "code",
      "metadata": {
        "id": "4QinaXhZ0_BR",
        "colab_type": "code",
        "colab": {}
      },
      "source": [
        "train_cn = np.zeros([n_train,row_length + 1])\n",
        "#test_cn = np.zeros([n_test,row_length + 1])\n",
        "\n",
        "for n in range(0,n_train):\n",
        "  cL = y_train[n]\n",
        "  Plus = np.zeros([im_dim,im_dim,3])\n",
        "  if cL == 0:\n",
        "    cN = im0\n",
        "  elif cL == 1:\n",
        "    cN = im1\n",
        "  elif cL == 2:\n",
        "    cN = im2\n",
        "  elif cL == 3:\n",
        "    cN = im3\n",
        "  elif cL == 4:\n",
        "    cN = im4\n",
        "  elif cL == 5:\n",
        "    cN = im5\n",
        "  elif cL == 6:\n",
        "    cN = im6\n",
        "  elif cL == 7:\n",
        "    cN = im7\n",
        "  elif cL == 8:\n",
        "    cN = im8\n",
        "  else:\n",
        "    cN = im9\n",
        "\n",
        "  cN = np.round(tr.rescale(cN,2,preserve_range = True))\n",
        "  Plus[2:30,2:30,0] = cN\n",
        "  Plus[2:30,2:30,1] = cN\n",
        "  Plus[2:30,2:30,2] = cN\n",
        "\n",
        "  train_cn[n,0] = cL\n",
        "  train_cn[n,1:] = Plus.flatten()\n",
        "\n",
        "\n",
        "# for n in range(0,n_test):\n",
        "#   cL = y_test[n]\n",
        "#   Plus = np.zeros([im_dim,im_dim,3])\n",
        "#   if cL == 0:\n",
        "#     cN = im0\n",
        "#   elif cL == 1:\n",
        "#     cN = im1\n",
        "#   elif cL == 2:\n",
        "#     cN = im2\n",
        "#   elif cL == 3:\n",
        "#     cN = im3\n",
        "#   elif cL == 4:\n",
        "#     cN = im4\n",
        "#   elif cL == 5:\n",
        "#     cN = im5\n",
        "#   elif cL == 6:\n",
        "#     cN = im6\n",
        "#   elif cL == 7:\n",
        "#     cN = im7\n",
        "#   elif cL == 8:\n",
        "#     cN = im8\n",
        "#   else:\n",
        "#     cN = im9\n",
        "\n",
        "  # cN = np.round(tr.rescale(cN,2,preserve_range = True))\n",
        "  # Plus[2:30,2:30,0] = cN\n",
        "  # Plus[2:30,2:30,1] = cN\n",
        "  # Plus[2:30,2:30,2] = cN\n",
        "\n",
        "  # test_cn[n,0] = cL\n",
        "  # test_cn[n,1:] = Plus.flatten()\n",
        "\n",
        "print('Commencing Saving...')\n",
        "\n",
        "# Saving\n",
        "pd.DataFrame(train_cn).to_csv('/content/drive/My Drive/4th Year/4YP/CIFAR10/Processed Datasets/CNumber/+_train.csv',header=None, index=None)\n",
        "#pd.DataFrame(test_cn).to_csv('/content/drive/My Drive/4th Year/4YP/CIFAR10/Processed Datasets/CNumber/+_test.csv',header=None, index=None)\n"
      ],
      "execution_count": 0,
      "outputs": []
    }
  ]
}